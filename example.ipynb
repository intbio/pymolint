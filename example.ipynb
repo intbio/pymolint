{
 "cells": [
  {
   "cell_type": "code",
   "execution_count": 2,
   "metadata": {},
   "outputs": [
    {
     "name": "stdout",
     "output_type": "stream",
     "text": [
      "The autoreload extension is already loaded. To reload it, use:\n",
      "  %reload_ext autoreload\n"
     ]
    }
   ],
   "source": [
    "%load_ext autoreload\n",
    "%autoreload 2\n",
    "import requests\n",
    "import io\n",
    "from pymolint import  mol_int\n",
    "# import numpy as np\n",
    "# import sys\n",
    "from pytexshade import ipyshade\n",
    "# from seqplot.p9tools import \n",
    "import MDAnalysis as mda\n",
    "from seqplot.pdb_plot import plot_prof4pdb"
   ]
  },
  {
   "cell_type": "code",
   "execution_count": 3,
   "metadata": {},
   "outputs": [],
   "source": [
    "h=io.StringIO(requests.get('https://files.rcsb.org/download/1KX5.pdb').content.decode(\"utf-8\") )"
   ]
  },
  {
   "cell_type": "code",
   "execution_count": 4,
   "metadata": {
    "scrolled": true
   },
   "outputs": [
    {
     "name": "stderr",
     "output_type": "stream",
     "text": [
      "/opt/miniconda3/envs/moldyn/lib/python3.7/site-packages/MDAnalysis/topology/guessers.py:80: UserWarning: Failed to guess the mass for the following atom types: MN\n",
      "  warnings.warn(\"Failed to guess the mass for the following atom types: {}\".format(atom_type))\n"
     ]
    }
   ],
   "source": [
    "struct=mda.Universe(h,format='PDB')"
   ]
  },
  {
   "cell_type": "code",
   "execution_count": null,
   "metadata": {},
   "outputs": [],
   "source": []
  },
  {
   "cell_type": "code",
   "execution_count": 8,
   "metadata": {},
   "outputs": [
    {
     "name": "stderr",
     "output_type": "stream",
     "text": [
      "0it [00:00, ?it/s]\n"
     ]
    }
   ],
   "source": [
    "d=mol_int.struct2cont(struct,'segid B and protein','nucleic')"
   ]
  },
  {
   "cell_type": "code",
   "execution_count": 10,
   "metadata": {},
   "outputs": [],
   "source": [
    "df=d.get_df()"
   ]
  },
  {
   "cell_type": "code",
   "execution_count": 11,
   "metadata": {},
   "outputs": [
    {
     "data": {
      "text/html": [
       "<div>\n",
       "<style scoped>\n",
       "    .dataframe tbody tr th:only-of-type {\n",
       "        vertical-align: middle;\n",
       "    }\n",
       "\n",
       "    .dataframe tbody tr th {\n",
       "        vertical-align: top;\n",
       "    }\n",
       "\n",
       "    .dataframe thead th {\n",
       "        text-align: right;\n",
       "    }\n",
       "</style>\n",
       "<table border=\"1\" class=\"dataframe\">\n",
       "  <thead>\n",
       "    <tr style=\"text-align: right;\">\n",
       "      <th></th>\n",
       "      <th>A_atom_id</th>\n",
       "      <th>A_atom_name</th>\n",
       "      <th>A_resname</th>\n",
       "      <th>A_segid</th>\n",
       "      <th>A_resid</th>\n",
       "      <th>B_atom_id</th>\n",
       "      <th>B_atom_name</th>\n",
       "      <th>B_resname</th>\n",
       "      <th>B_segid</th>\n",
       "      <th>B_resid</th>\n",
       "      <th>dist</th>\n",
       "      <th>Time</th>\n",
       "    </tr>\n",
       "  </thead>\n",
       "  <tbody>\n",
       "    <tr>\n",
       "      <th>0</th>\n",
       "      <td>7365</td>\n",
       "      <td>NH1</td>\n",
       "      <td>ARG</td>\n",
       "      <td>B</td>\n",
       "      <td>36</td>\n",
       "      <td>1223</td>\n",
       "      <td>P</td>\n",
       "      <td>DA</td>\n",
       "      <td>I</td>\n",
       "      <td>-13</td>\n",
       "      <td>3.688779</td>\n",
       "      <td>0</td>\n",
       "    </tr>\n",
       "    <tr>\n",
       "      <th>1</th>\n",
       "      <td>7364</td>\n",
       "      <td>CZ</td>\n",
       "      <td>ARG</td>\n",
       "      <td>B</td>\n",
       "      <td>36</td>\n",
       "      <td>1224</td>\n",
       "      <td>OP1</td>\n",
       "      <td>DA</td>\n",
       "      <td>I</td>\n",
       "      <td>-13</td>\n",
       "      <td>3.517523</td>\n",
       "      <td>0</td>\n",
       "    </tr>\n",
       "    <tr>\n",
       "      <th>2</th>\n",
       "      <td>7365</td>\n",
       "      <td>NH1</td>\n",
       "      <td>ARG</td>\n",
       "      <td>B</td>\n",
       "      <td>36</td>\n",
       "      <td>1224</td>\n",
       "      <td>OP1</td>\n",
       "      <td>DA</td>\n",
       "      <td>I</td>\n",
       "      <td>-13</td>\n",
       "      <td>3.285111</td>\n",
       "      <td>0</td>\n",
       "    </tr>\n",
       "    <tr>\n",
       "      <th>3</th>\n",
       "      <td>7366</td>\n",
       "      <td>NH2</td>\n",
       "      <td>ARG</td>\n",
       "      <td>B</td>\n",
       "      <td>36</td>\n",
       "      <td>1224</td>\n",
       "      <td>OP1</td>\n",
       "      <td>DA</td>\n",
       "      <td>I</td>\n",
       "      <td>-13</td>\n",
       "      <td>2.872054</td>\n",
       "      <td>0</td>\n",
       "    </tr>\n",
       "    <tr>\n",
       "      <th>4</th>\n",
       "      <td>7329</td>\n",
       "      <td>CB</td>\n",
       "      <td>PRO</td>\n",
       "      <td>B</td>\n",
       "      <td>32</td>\n",
       "      <td>1225</td>\n",
       "      <td>OP2</td>\n",
       "      <td>DA</td>\n",
       "      <td>I</td>\n",
       "      <td>-13</td>\n",
       "      <td>3.450700</td>\n",
       "      <td>0</td>\n",
       "    </tr>\n",
       "    <tr>\n",
       "      <th>...</th>\n",
       "      <td>...</td>\n",
       "      <td>...</td>\n",
       "      <td>...</td>\n",
       "      <td>...</td>\n",
       "      <td>...</td>\n",
       "      <td>...</td>\n",
       "      <td>...</td>\n",
       "      <td>...</td>\n",
       "      <td>...</td>\n",
       "      <td>...</td>\n",
       "      <td>...</td>\n",
       "      <td>...</td>\n",
       "    </tr>\n",
       "    <tr>\n",
       "      <th>130</th>\n",
       "      <td>7706</td>\n",
       "      <td>N</td>\n",
       "      <td>LYS</td>\n",
       "      <td>B</td>\n",
       "      <td>79</td>\n",
       "      <td>5080</td>\n",
       "      <td>OP2</td>\n",
       "      <td>DC</td>\n",
       "      <td>J</td>\n",
       "      <td>28</td>\n",
       "      <td>3.583109</td>\n",
       "      <td>0</td>\n",
       "    </tr>\n",
       "    <tr>\n",
       "      <th>131</th>\n",
       "      <td>7700</td>\n",
       "      <td>CG</td>\n",
       "      <td>ARG</td>\n",
       "      <td>B</td>\n",
       "      <td>78</td>\n",
       "      <td>5081</td>\n",
       "      <td>O5'</td>\n",
       "      <td>DC</td>\n",
       "      <td>J</td>\n",
       "      <td>28</td>\n",
       "      <td>3.665597</td>\n",
       "      <td>0</td>\n",
       "    </tr>\n",
       "    <tr>\n",
       "      <th>132</th>\n",
       "      <td>7701</td>\n",
       "      <td>CD</td>\n",
       "      <td>ARG</td>\n",
       "      <td>B</td>\n",
       "      <td>78</td>\n",
       "      <td>5081</td>\n",
       "      <td>O5'</td>\n",
       "      <td>DC</td>\n",
       "      <td>J</td>\n",
       "      <td>28</td>\n",
       "      <td>3.722939</td>\n",
       "      <td>0</td>\n",
       "    </tr>\n",
       "    <tr>\n",
       "      <th>133</th>\n",
       "      <td>7719</td>\n",
       "      <td>CB</td>\n",
       "      <td>THR</td>\n",
       "      <td>B</td>\n",
       "      <td>80</td>\n",
       "      <td>5082</td>\n",
       "      <td>C5'</td>\n",
       "      <td>DC</td>\n",
       "      <td>J</td>\n",
       "      <td>28</td>\n",
       "      <td>3.744557</td>\n",
       "      <td>0</td>\n",
       "    </tr>\n",
       "    <tr>\n",
       "      <th>134</th>\n",
       "      <td>7720</td>\n",
       "      <td>OG1</td>\n",
       "      <td>THR</td>\n",
       "      <td>B</td>\n",
       "      <td>80</td>\n",
       "      <td>5082</td>\n",
       "      <td>C5'</td>\n",
       "      <td>DC</td>\n",
       "      <td>J</td>\n",
       "      <td>28</td>\n",
       "      <td>3.508114</td>\n",
       "      <td>0</td>\n",
       "    </tr>\n",
       "  </tbody>\n",
       "</table>\n",
       "<p>135 rows × 12 columns</p>\n",
       "</div>"
      ],
      "text/plain": [
       "     A_atom_id A_atom_name A_resname A_segid  A_resid  B_atom_id B_atom_name  \\\n",
       "0         7365         NH1       ARG       B       36       1223           P   \n",
       "1         7364          CZ       ARG       B       36       1224         OP1   \n",
       "2         7365         NH1       ARG       B       36       1224         OP1   \n",
       "3         7366         NH2       ARG       B       36       1224         OP1   \n",
       "4         7329          CB       PRO       B       32       1225         OP2   \n",
       "..         ...         ...       ...     ...      ...        ...         ...   \n",
       "130       7706           N       LYS       B       79       5080         OP2   \n",
       "131       7700          CG       ARG       B       78       5081         O5'   \n",
       "132       7701          CD       ARG       B       78       5081         O5'   \n",
       "133       7719          CB       THR       B       80       5082         C5'   \n",
       "134       7720         OG1       THR       B       80       5082         C5'   \n",
       "\n",
       "    B_resname B_segid  B_resid      dist  Time  \n",
       "0          DA       I      -13  3.688779     0  \n",
       "1          DA       I      -13  3.517523     0  \n",
       "2          DA       I      -13  3.285111     0  \n",
       "3          DA       I      -13  2.872054     0  \n",
       "4          DA       I      -13  3.450700     0  \n",
       "..        ...     ...      ...       ...   ...  \n",
       "130        DC       J       28  3.583109     0  \n",
       "131        DC       J       28  3.665597     0  \n",
       "132        DC       J       28  3.722939     0  \n",
       "133        DC       J       28  3.744557     0  \n",
       "134        DC       J       28  3.508114     0  \n",
       "\n",
       "[135 rows x 12 columns]"
      ]
     },
     "execution_count": 11,
     "metadata": {},
     "output_type": "execute_result"
    }
   ],
   "source": [
    "df"
   ]
  },
  {
   "cell_type": "code",
   "execution_count": 13,
   "metadata": {},
   "outputs": [],
   "source": [
    "dp=d.get_num_int_profile()"
   ]
  },
  {
   "cell_type": "code",
   "execution_count": 14,
   "metadata": {},
   "outputs": [
    {
     "data": {
      "text/html": [
       "<div>\n",
       "<style scoped>\n",
       "    .dataframe tbody tr th:only-of-type {\n",
       "        vertical-align: middle;\n",
       "    }\n",
       "\n",
       "    .dataframe tbody tr th {\n",
       "        vertical-align: top;\n",
       "    }\n",
       "\n",
       "    .dataframe thead th {\n",
       "        text-align: right;\n",
       "    }\n",
       "</style>\n",
       "<table border=\"1\" class=\"dataframe\">\n",
       "  <thead>\n",
       "    <tr style=\"text-align: right;\">\n",
       "      <th></th>\n",
       "      <th>segid</th>\n",
       "      <th>resid</th>\n",
       "      <th>num_int</th>\n",
       "    </tr>\n",
       "  </thead>\n",
       "  <tbody>\n",
       "    <tr>\n",
       "      <th>0</th>\n",
       "      <td>B</td>\n",
       "      <td>5</td>\n",
       "      <td>7.0</td>\n",
       "    </tr>\n",
       "    <tr>\n",
       "      <th>1</th>\n",
       "      <td>B</td>\n",
       "      <td>6</td>\n",
       "      <td>2.0</td>\n",
       "    </tr>\n",
       "    <tr>\n",
       "      <th>2</th>\n",
       "      <td>B</td>\n",
       "      <td>8</td>\n",
       "      <td>4.0</td>\n",
       "    </tr>\n",
       "    <tr>\n",
       "      <th>3</th>\n",
       "      <td>B</td>\n",
       "      <td>9</td>\n",
       "      <td>3.0</td>\n",
       "    </tr>\n",
       "    <tr>\n",
       "      <th>4</th>\n",
       "      <td>B</td>\n",
       "      <td>10</td>\n",
       "      <td>1.0</td>\n",
       "    </tr>\n",
       "    <tr>\n",
       "      <th>5</th>\n",
       "      <td>B</td>\n",
       "      <td>14</td>\n",
       "      <td>1.0</td>\n",
       "    </tr>\n",
       "    <tr>\n",
       "      <th>6</th>\n",
       "      <td>B</td>\n",
       "      <td>15</td>\n",
       "      <td>1.0</td>\n",
       "    </tr>\n",
       "    <tr>\n",
       "      <th>7</th>\n",
       "      <td>B</td>\n",
       "      <td>16</td>\n",
       "      <td>9.0</td>\n",
       "    </tr>\n",
       "    <tr>\n",
       "      <th>8</th>\n",
       "      <td>B</td>\n",
       "      <td>17</td>\n",
       "      <td>17.0</td>\n",
       "    </tr>\n",
       "    <tr>\n",
       "      <th>9</th>\n",
       "      <td>B</td>\n",
       "      <td>18</td>\n",
       "      <td>3.0</td>\n",
       "    </tr>\n",
       "    <tr>\n",
       "      <th>10</th>\n",
       "      <td>B</td>\n",
       "      <td>19</td>\n",
       "      <td>17.0</td>\n",
       "    </tr>\n",
       "    <tr>\n",
       "      <th>11</th>\n",
       "      <td>B</td>\n",
       "      <td>30</td>\n",
       "      <td>3.0</td>\n",
       "    </tr>\n",
       "    <tr>\n",
       "      <th>12</th>\n",
       "      <td>B</td>\n",
       "      <td>32</td>\n",
       "      <td>5.0</td>\n",
       "    </tr>\n",
       "    <tr>\n",
       "      <th>13</th>\n",
       "      <td>B</td>\n",
       "      <td>35</td>\n",
       "      <td>1.0</td>\n",
       "    </tr>\n",
       "    <tr>\n",
       "      <th>14</th>\n",
       "      <td>B</td>\n",
       "      <td>36</td>\n",
       "      <td>5.0</td>\n",
       "    </tr>\n",
       "    <tr>\n",
       "      <th>15</th>\n",
       "      <td>B</td>\n",
       "      <td>45</td>\n",
       "      <td>14.0</td>\n",
       "    </tr>\n",
       "    <tr>\n",
       "      <th>16</th>\n",
       "      <td>B</td>\n",
       "      <td>46</td>\n",
       "      <td>8.0</td>\n",
       "    </tr>\n",
       "    <tr>\n",
       "      <th>17</th>\n",
       "      <td>B</td>\n",
       "      <td>47</td>\n",
       "      <td>3.0</td>\n",
       "    </tr>\n",
       "    <tr>\n",
       "      <th>18</th>\n",
       "      <td>B</td>\n",
       "      <td>48</td>\n",
       "      <td>4.0</td>\n",
       "    </tr>\n",
       "    <tr>\n",
       "      <th>19</th>\n",
       "      <td>B</td>\n",
       "      <td>78</td>\n",
       "      <td>6.0</td>\n",
       "    </tr>\n",
       "    <tr>\n",
       "      <th>20</th>\n",
       "      <td>B</td>\n",
       "      <td>79</td>\n",
       "      <td>13.0</td>\n",
       "    </tr>\n",
       "    <tr>\n",
       "      <th>21</th>\n",
       "      <td>B</td>\n",
       "      <td>80</td>\n",
       "      <td>8.0</td>\n",
       "    </tr>\n",
       "  </tbody>\n",
       "</table>\n",
       "</div>"
      ],
      "text/plain": [
       "   segid  resid  num_int\n",
       "0      B      5      7.0\n",
       "1      B      6      2.0\n",
       "2      B      8      4.0\n",
       "3      B      9      3.0\n",
       "4      B     10      1.0\n",
       "5      B     14      1.0\n",
       "6      B     15      1.0\n",
       "7      B     16      9.0\n",
       "8      B     17     17.0\n",
       "9      B     18      3.0\n",
       "10     B     19     17.0\n",
       "11     B     30      3.0\n",
       "12     B     32      5.0\n",
       "13     B     35      1.0\n",
       "14     B     36      5.0\n",
       "15     B     45     14.0\n",
       "16     B     46      8.0\n",
       "17     B     47      3.0\n",
       "18     B     48      4.0\n",
       "19     B     78      6.0\n",
       "20     B     79     13.0\n",
       "21     B     80      8.0"
      ]
     },
     "execution_count": 14,
     "metadata": {},
     "output_type": "execute_result"
    }
   ],
   "source": [
    "dp"
   ]
  },
  {
   "cell_type": "code",
   "execution_count": 16,
   "metadata": {},
   "outputs": [
    {
     "name": "stdout",
     "output_type": "stream",
     "text": [
      "Starting resid 1\n",
      "CPU times: user 8.93 s, sys: 101 ms, total: 9.03 s\n",
      "Wall time: 15.9 s\n"
     ]
    },
    {
     "data": {
      "image/png": "[encoded data removed]",
      "text/plain": [
       "<Figure size 1920x282.353 with 1 Axes>"
      ]
     },
     "metadata": {},
     "output_type": "display_data"
    },
    {
     "data": {
      "text/plain": [
       "<ggplot: (8774699024227)>"
      ]
     },
     "execution_count": 16,
     "metadata": {},
     "output_type": "execute_result"
    }
   ],
   "source": [
    "%%time\n",
    "import warnings\n",
    "warnings.filterwarnings('ignore')\n",
    "plot_prof4pdb(pdb_chain_id='1KX5_B',column='num_int',data=dp,ymin=0,feature_types=['SecStr'])"
   ]
  },
  {
   "cell_type": "code",
   "execution_count": 42,
   "metadata": {},
   "outputs": [
    {
     "name": "stderr",
     "output_type": "stream",
     "text": [
      "Exception ignored in: <function ReaderBase.__del__ at 0x7f29ee8661e0>\n",
      "Traceback (most recent call last):\n",
      "  File \"/opt/miniconda3/envs/moldyn/lib/python3.7/site-packages/MDAnalysis/coordinates/base.py\", line 2106, in __del__\n",
      "    self.close()\n",
      "  File \"/opt/miniconda3/envs/moldyn/lib/python3.7/site-packages/MDAnalysis/coordinates/PDB.py\", line 424, in close\n",
      "    self._pdbfile.close()\n",
      "  File \"/opt/miniconda3/envs/moldyn/lib/python3.7/site-packages/MDAnalysis/lib/util.py\", line 736, in close\n",
      "    self.flush()\n",
      "  File \"/opt/miniconda3/envs/moldyn/lib/python3.7/site-packages/MDAnalysis/lib/util.py\", line 842, in flush\n",
      "    return self.stream.flush()\n",
      "ValueError: I/O operation on closed file.\n"
     ]
    },
    {
     "name": "stdout",
     "output_type": "stream",
     "text": [
      "CPU times: user 2.82 s, sys: 184 ms, total: 3 s\n",
      "Wall time: 8.16 s\n"
     ]
    },
    {
     "data": {
      "image/png": "[encoded data removed]",
      "text/plain": [
       "<Figure size 1920x576 with 1 Axes>"
      ]
     },
     "metadata": {},
     "output_type": "display_data"
    },
    {
     "data": {
      "text/plain": [
       "<ggplot: (8738737358600)>"
      ]
     },
     "execution_count": 42,
     "metadata": {},
     "output_type": "execute_result"
    }
   ],
   "source": [
    "%%time\n",
    "import warnings\n",
    "warnings.filterwarnings('ignore')\n",
    "h=io.StringIO(requests.get('https://files.rcsb.org/download/1ZLA.pdb').content.decode(\"utf-8\") )\n",
    "dp=struct_int.struct2cont(h,'segid K and protein',format='pdb').get_num_int_profile()\n",
    "plot_prof4pdb(pdb_chain_id='1ZLA_K',column='num_int',data=dp,ymin=0,feature_types=['SecStr'],aspect_ratio=0.3)"
   ]
  },
  {
   "cell_type": "code",
   "execution_count": null,
   "metadata": {},
   "outputs": [],
   "source": []
  }
 ],
 "metadata": {
  "kernelspec": {
   "display_name": "Python [conda env:moldyn]",
   "language": "python",
   "name": "conda-env-moldyn-py"
  },
  "language_info": {
   "codemirror_mode": {
    "name": "ipython",
    "version": 3
   },
   "file_extension": ".py",
   "mimetype": "text/x-python",
   "name": "python",
   "nbconvert_exporter": "python",
   "pygments_lexer": "ipython3",
   "version": "3.7.3"
  }
 },
 "nbformat": 4,
 "nbformat_minor": 2
}
